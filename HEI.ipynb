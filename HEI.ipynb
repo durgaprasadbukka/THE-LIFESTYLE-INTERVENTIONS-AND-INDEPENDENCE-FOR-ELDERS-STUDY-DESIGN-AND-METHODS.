{
 "cells": [
  {
   "cell_type": "code",
   "execution_count": 4,
   "id": "050befbe-2161-4b7d-b46c-236f9b8ec423",
   "metadata": {},
   "outputs": [
    {
     "data": {
      "text/html": [
       "<div>\n",
       "<style scoped>\n",
       "    .dataframe tbody tr th:only-of-type {\n",
       "        vertical-align: middle;\n",
       "    }\n",
       "\n",
       "    .dataframe tbody tr th {\n",
       "        vertical-align: top;\n",
       "    }\n",
       "\n",
       "    .dataframe thead th {\n",
       "        text-align: right;\n",
       "    }\n",
       "</style>\n",
       "<table border=\"1\" class=\"dataframe\">\n",
       "  <thead>\n",
       "    <tr style=\"text-align: right;\">\n",
       "      <th></th>\n",
       "      <th>V1</th>\n",
       "      <th>MaskID</th>\n",
       "      <th>Time</th>\n",
       "      <th>TimeN</th>\n",
       "      <th>days_accel</th>\n",
       "      <th>valid_days</th>\n",
       "      <th>minutes_wear</th>\n",
       "      <th>minutes_nonwear</th>\n",
       "      <th>activity_total</th>\n",
       "      <th>steps_total</th>\n",
       "      <th>...</th>\n",
       "      <th>ZhST</th>\n",
       "      <th>SEX</th>\n",
       "      <th>filter_$</th>\n",
       "      <th>ZTGR1</th>\n",
       "      <th>ZTGR2</th>\n",
       "      <th>ZTQWB</th>\n",
       "      <th>Zst</th>\n",
       "      <th>Zmin760</th>\n",
       "      <th>HEI</th>\n",
       "      <th>ZLDL_CHOL_CALCULATION</th>\n",
       "    </tr>\n",
       "  </thead>\n",
       "  <tbody>\n",
       "    <tr>\n",
       "      <th>0</th>\n",
       "      <td>0</td>\n",
       "      <td>10020</td>\n",
       "      <td>SV1</td>\n",
       "      <td>1</td>\n",
       "      <td>-10</td>\n",
       "      <td>6</td>\n",
       "      <td>711.1666667</td>\n",
       "      <td>642.3333333</td>\n",
       "      <td>102872.5</td>\n",
       "      <td>2634.833333</td>\n",
       "      <td>...</td>\n",
       "      <td></td>\n",
       "      <td>1</td>\n",
       "      <td>0</td>\n",
       "      <td></td>\n",
       "      <td></td>\n",
       "      <td></td>\n",
       "      <td>.0370951100477844</td>\n",
       "      <td>.518077178394756</td>\n",
       "      <td>.805555555555555</td>\n",
       "      <td>.820680712745175</td>\n",
       "    </tr>\n",
       "    <tr>\n",
       "      <th>1</th>\n",
       "      <td>1</td>\n",
       "      <td>10020</td>\n",
       "      <td>F06</td>\n",
       "      <td>2</td>\n",
       "      <td>176</td>\n",
       "      <td>4</td>\n",
       "      <td>726.75</td>\n",
       "      <td>713.25</td>\n",
       "      <td>63984</td>\n",
       "      <td>1641</td>\n",
       "      <td>...</td>\n",
       "      <td></td>\n",
       "      <td>1</td>\n",
       "      <td>0</td>\n",
       "      <td></td>\n",
       "      <td></td>\n",
       "      <td></td>\n",
       "      <td>-.605569253582551</td>\n",
       "      <td>-.135199648159411</td>\n",
       "      <td></td>\n",
       "      <td>.820680712745175</td>\n",
       "    </tr>\n",
       "    <tr>\n",
       "      <th>2</th>\n",
       "      <td>2</td>\n",
       "      <td>10020</td>\n",
       "      <td>F12</td>\n",
       "      <td>3</td>\n",
       "      <td>358</td>\n",
       "      <td>5</td>\n",
       "      <td>717.8</td>\n",
       "      <td>609.4</td>\n",
       "      <td>81706.6</td>\n",
       "      <td>1760</td>\n",
       "      <td>...</td>\n",
       "      <td>-.215581911842835</td>\n",
       "      <td>1</td>\n",
       "      <td>1</td>\n",
       "      <td>.342943633391193</td>\n",
       "      <td>.381572466155057</td>\n",
       "      <td>.557505878977451</td>\n",
       "      <td>-.528617659454433</td>\n",
       "      <td>-.249706597558682</td>\n",
       "      <td></td>\n",
       "      <td>.820680712745175</td>\n",
       "    </tr>\n",
       "    <tr>\n",
       "      <th>3</th>\n",
       "      <td>3</td>\n",
       "      <td>10020</td>\n",
       "      <td>F18</td>\n",
       "      <td>4</td>\n",
       "      <td></td>\n",
       "      <td></td>\n",
       "      <td></td>\n",
       "      <td></td>\n",
       "      <td></td>\n",
       "      <td></td>\n",
       "      <td>...</td>\n",
       "      <td></td>\n",
       "      <td>1</td>\n",
       "      <td>0</td>\n",
       "      <td></td>\n",
       "      <td></td>\n",
       "      <td></td>\n",
       "      <td></td>\n",
       "      <td></td>\n",
       "      <td></td>\n",
       "      <td>.820680712745175</td>\n",
       "    </tr>\n",
       "    <tr>\n",
       "      <th>4</th>\n",
       "      <td>4</td>\n",
       "      <td>10020</td>\n",
       "      <td>F24</td>\n",
       "      <td>5</td>\n",
       "      <td>714</td>\n",
       "      <td>1</td>\n",
       "      <td>815</td>\n",
       "      <td>625</td>\n",
       "      <td>129339</td>\n",
       "      <td>3475</td>\n",
       "      <td>...</td>\n",
       "      <td>-.372883789871789</td>\n",
       "      <td>1</td>\n",
       "      <td>0</td>\n",
       "      <td></td>\n",
       "      <td></td>\n",
       "      <td></td>\n",
       "      <td>.580390608862548</td>\n",
       "      <td>.1290471581466</td>\n",
       "      <td></td>\n",
       "      <td>.820680712745175</td>\n",
       "    </tr>\n",
       "  </tbody>\n",
       "</table>\n",
       "<p>5 rows × 962 columns</p>\n",
       "</div>"
      ],
      "text/plain": [
       "   V1  MaskID Time TimeN days_accel valid_days minutes_wear minutes_nonwear  \\\n",
       "0   0   10020  SV1     1        -10          6  711.1666667     642.3333333   \n",
       "1   1   10020  F06     2        176          4       726.75          713.25   \n",
       "2   2   10020  F12     3        358          5        717.8           609.4   \n",
       "3   3   10020  F18     4                                                      \n",
       "4   4   10020  F24     5        714          1          815             625   \n",
       "\n",
       "  activity_total  steps_total  ...               ZhST SEX filter_$  \\\n",
       "0       102872.5  2634.833333  ...                      1        0   \n",
       "1          63984         1641  ...                      1        0   \n",
       "2        81706.6         1760  ...  -.215581911842835   1        1   \n",
       "3                              ...                      1        0   \n",
       "4         129339         3475  ...  -.372883789871789   1        0   \n",
       "\n",
       "              ZTGR1             ZTGR2             ZTQWB                Zst  \\\n",
       "0                                                        .0370951100477844   \n",
       "1                                                        -.605569253582551   \n",
       "2  .342943633391193  .381572466155057  .557505878977451  -.528617659454433   \n",
       "3                                                                            \n",
       "4                                                         .580390608862548   \n",
       "\n",
       "             Zmin760               HEI ZLDL_CHOL_CALCULATION  \n",
       "0   .518077178394756  .805555555555555      .820680712745175  \n",
       "1  -.135199648159411                        .820680712745175  \n",
       "2  -.249706597558682                        .820680712745175  \n",
       "3                                           .820680712745175  \n",
       "4     .1290471581466                        .820680712745175  \n",
       "\n",
       "[5 rows x 962 columns]"
      ]
     },
     "execution_count": 4,
     "metadata": {},
     "output_type": "execute_result"
    }
   ],
   "source": [
    "import pandas as pd\n",
    "\n",
    "# Load the dataset\n",
    "df = pd.read_csv('LIFE.Merged.D.A.November.11.2024.csv')\n",
    "df.head()"
   ]
  },
  {
   "cell_type": "code",
   "execution_count": 5,
   "id": "6ff4f607-74ad-4312-8e4b-bd41b8771bcd",
   "metadata": {},
   "outputs": [],
   "source": [
    "relevant_columns = ['SODIUM', 'POTASSIUM', 'CALCIUM', 'CHLORIDE', 'CARBON_DIOXIDE_CO2',\n",
    "                    'GLUCOSE', 'CHOLESTEROL_TOTAL', 'HDL_CHOL_DIRECT', 'LDL_CHOL_CALCULATION', \n",
    "                    'TRIGLYCERIDES', 'ALBUMIN', 'GLOBULIN', 'A_G_RATIO', 'UREA_NITROGEN',\n",
    "                    'HEMOGLOBIN', 'RED_CELL_COUNT', 'HEMATOCRIT']\n",
    "\n",
    "for col in relevant_columns:\n",
    "    df[col] = pd.to_numeric(df[col], errors='coerce')  # Convert to numeric, invalid data to NaN"
   ]
  },
  {
   "cell_type": "code",
   "execution_count": 6,
   "id": "3e531aa5-57d5-4f85-b2c6-b98143d3c544",
   "metadata": {},
   "outputs": [],
   "source": [
    "def score_binary(value, lower, upper):\n",
    "    \"\"\"Returns 1 if the value is within the healthy range, else 0.\"\"\"\n",
    "    if pd.isnull(value):  # Missing values\n",
    "        return None\n",
    "    return 1 if lower <= value <= upper else 0"
   ]
  },
  {
   "cell_type": "code",
   "execution_count": 7,
   "id": "9187b4ea-b873-4686-873e-af558fce24d5",
   "metadata": {},
   "outputs": [],
   "source": [
    "# Reference ranges for scoring\n",
    "reference_ranges = {\n",
    "    'SODIUM': (135, 145), 'POTASSIUM': (3.5, 5.0), 'CALCIUM': (8.5, 10.5),\n",
    "    'CHLORIDE': (98, 106), 'CARBON_DIOXIDE_CO2': (22, 29),\n",
    "    'GLUCOSE': (70, 99), 'CHOLESTEROL_TOTAL': (0, 200), 'HDL_CHOL_DIRECT': (40, 100),\n",
    "    'LDL_CHOL_CALCULATION': (0, 100), 'TRIGLYCERIDES': (0, 150),\n",
    "    'ALBUMIN': (3.4, 5.4), 'GLOBULIN': (2.0, 3.5), 'A_G_RATIO': (1.0, 2.0),\n",
    "    'UREA_NITROGEN': (7, 20), 'HEMOGLOBIN': (13.5, 17.5), 'RED_CELL_COUNT': (4.7, 6.1),\n",
    "    'HEMATOCRIT': (38.8, 50.0)\n",
    "}\n",
    "\n",
    "# Scoring each variable\n",
    "scores = pd.DataFrame()\n",
    "for var, (lower, upper) in reference_ranges.items():\n",
    "    scores[var] = df[var].apply(score_binary, args=(lower, upper))"
   ]
  },
  {
   "cell_type": "code",
   "execution_count": 8,
   "id": "80bb40ed-cc21-43da-afe9-fd95e59efd41",
   "metadata": {},
   "outputs": [],
   "source": [
    "# Group variables into components\n",
    "components = {\n",
    "    'Electrolytes': ['SODIUM', 'POTASSIUM', 'CALCIUM', 'CHLORIDE', 'CARBON_DIOXIDE_CO2'],\n",
    "    'Glucose': ['GLUCOSE'],\n",
    "    'Lipid Profile': ['CHOLESTEROL_TOTAL', 'HDL_CHOL_DIRECT', 'LDL_CHOL_CALCULATION', 'TRIGLYCERIDES'],\n",
    "    'Protein Status': ['ALBUMIN', 'GLOBULIN', 'A_G_RATIO'],\n",
    "    'Kidney Function': ['UREA_NITROGEN'],\n",
    "    'Blood Markers': ['HEMOGLOBIN', 'RED_CELL_COUNT', 'HEMATOCRIT']\n",
    "}\n",
    "\n",
    "# Average scores for each component\n",
    "component_scores = {}\n",
    "for category, variables in components.items():\n",
    "    component_scores[category] = scores[variables].mean(axis=1)\n",
    "\n",
    "# Combine into a single DataFrame\n",
    "component_scores_df = pd.DataFrame(component_scores)"
   ]
  },
  {
   "cell_type": "code",
   "execution_count": 9,
   "id": "19eba30f-be25-44ee-90ff-bc8ef918ba3d",
   "metadata": {},
   "outputs": [],
   "source": [
    "# Final index\n",
    "component_scores_df['Nutrition_Ingestion_Index'] = component_scores_df.mean(axis=1)"
   ]
  },
  {
   "cell_type": "code",
   "execution_count": 10,
   "id": "459c1366-23d3-4a75-a9cf-cca381638d72",
   "metadata": {},
   "outputs": [
    {
     "name": "stdout",
     "output_type": "stream",
     "text": [
      "File saved: Nutrition_Ingestion_Index_Scores.csv\n"
     ]
    }
   ],
   "source": [
    "component_scores_df.to_csv('Nutrition_Ingestion_Index_Scores.csv', index=False)\n",
    "print(\"File saved: Nutrition_Ingestion_Index_Scores.csv\")"
   ]
  },
  {
   "cell_type": "code",
   "execution_count": 11,
   "id": "4660cf73-f2c0-4975-9b75-6de153dcfac8",
   "metadata": {},
   "outputs": [
    {
     "name": "stdout",
     "output_type": "stream",
     "text": [
      "   SODIUM  POTASSIUM  CALCIUM  CHLORIDE  CARBON_DIOXIDE_CO2  GLUCOSE  \\\n",
      "0     1.0        1.0      1.0       1.0                 1.0      1.0   \n",
      "1     1.0        1.0      1.0       1.0                 1.0      1.0   \n",
      "2     1.0        1.0      1.0       1.0                 1.0      1.0   \n",
      "3     1.0        1.0      1.0       1.0                 1.0      1.0   \n",
      "4     1.0        1.0      1.0       1.0                 1.0      1.0   \n",
      "\n",
      "   CHOLESTEROL_TOTAL  HDL_CHOL_DIRECT  LDL_CHOL_CALCULATION  TRIGLYCERIDES  \\\n",
      "0                0.0              1.0                   0.0            1.0   \n",
      "1                0.0              1.0                   0.0            1.0   \n",
      "2                0.0              1.0                   0.0            1.0   \n",
      "3                0.0              1.0                   0.0            1.0   \n",
      "4                0.0              1.0                   0.0            1.0   \n",
      "\n",
      "   ALBUMIN  GLOBULIN  A_G_RATIO  UREA_NITROGEN  HEMOGLOBIN  RED_CELL_COUNT  \\\n",
      "0      1.0       1.0        1.0            1.0         0.0             0.0   \n",
      "1      1.0       1.0        1.0            1.0         0.0             0.0   \n",
      "2      1.0       1.0        1.0            1.0         0.0             0.0   \n",
      "3      1.0       1.0        1.0            1.0         0.0             0.0   \n",
      "4      1.0       1.0        1.0            1.0         0.0             0.0   \n",
      "\n",
      "   HEMATOCRIT  \n",
      "0         1.0  \n",
      "1         1.0  \n",
      "2         1.0  \n",
      "3         1.0  \n",
      "4         1.0  \n"
     ]
    }
   ],
   "source": [
    "# Display the first few rows of scores\n",
    "print(scores.head())"
   ]
  },
  {
   "cell_type": "code",
   "execution_count": 12,
   "id": "a72eb709-1031-4cec-bb63-1f1b430397ec",
   "metadata": {},
   "outputs": [
    {
     "name": "stdout",
     "output_type": "stream",
     "text": [
      "SODIUM                  2272\n",
      "POTASSIUM               2283\n",
      "CALCIUM                 2283\n",
      "CHLORIDE                2272\n",
      "CARBON_DIOXIDE_CO2      2283\n",
      "GLUCOSE                 2272\n",
      "CHOLESTEROL_TOTAL       2266\n",
      "HDL_CHOL_DIRECT         2266\n",
      "LDL_CHOL_CALCULATION    2288\n",
      "TRIGLYCERIDES           2266\n",
      "ALBUMIN                 2272\n",
      "GLOBULIN                2272\n",
      "A_G_RATIO               2272\n",
      "UREA_NITROGEN           2272\n",
      "HEMOGLOBIN              2567\n",
      "RED_CELL_COUNT          2567\n",
      "HEMATOCRIT              2567\n",
      "dtype: int64\n"
     ]
    }
   ],
   "source": [
    "# Check for missing values\n",
    "print(df[relevant_columns].isnull().sum())"
   ]
  },
  {
   "cell_type": "code",
   "execution_count": 13,
   "id": "1fbaf224-d793-40c2-80b4-4604f0d933e7",
   "metadata": {},
   "outputs": [
    {
     "name": "stdout",
     "output_type": "stream",
     "text": [
      "       SODIUM\n",
      "0       142.0\n",
      "1       142.0\n",
      "2       142.0\n",
      "3       142.0\n",
      "4       142.0\n",
      "...       ...\n",
      "10280   142.0\n",
      "10281   142.0\n",
      "10284   138.0\n",
      "10285   138.0\n",
      "10286   138.0\n",
      "\n",
      "[7743 rows x 1 columns]\n"
     ]
    }
   ],
   "source": [
    "# Filter rows where SODIUM is scored as 1\n",
    "print(df.loc[scores['SODIUM'] == 1, ['SODIUM']])"
   ]
  },
  {
   "cell_type": "code",
   "execution_count": 14,
   "id": "3a08d098-cdbc-4593-8374-b8371a1e4514",
   "metadata": {},
   "outputs": [
    {
     "name": "stdout",
     "output_type": "stream",
     "text": [
      "       SODIUM\n",
      "92      146.0\n",
      "93      146.0\n",
      "94      146.0\n",
      "95      146.0\n",
      "96      146.0\n",
      "...       ...\n",
      "10149   146.0\n",
      "10157   146.0\n",
      "10158   146.0\n",
      "10159   146.0\n",
      "10160   146.0\n",
      "\n",
      "[272 rows x 1 columns]\n"
     ]
    }
   ],
   "source": [
    "# Filter rows where SODIUM is scored as 0\n",
    "print(df.loc[scores['SODIUM'] == 0, ['SODIUM']])"
   ]
  },
  {
   "cell_type": "code",
   "execution_count": 15,
   "id": "e3e6c033-e24e-44ca-9909-261f85eca206",
   "metadata": {},
   "outputs": [
    {
     "name": "stdout",
     "output_type": "stream",
     "text": [
      "       SODIUM\n",
      "5         NaN\n",
      "6         NaN\n",
      "21        NaN\n",
      "24        NaN\n",
      "31        NaN\n",
      "...       ...\n",
      "10267     NaN\n",
      "10268     NaN\n",
      "10275     NaN\n",
      "10282     NaN\n",
      "10283     NaN\n",
      "\n",
      "[2272 rows x 1 columns]\n"
     ]
    }
   ],
   "source": [
    "# Filter rows where SODIUM is missing\n",
    "print(df.loc[scores['SODIUM'].isnull(), ['SODIUM']])"
   ]
  },
  {
   "cell_type": "code",
   "execution_count": 16,
   "id": "70509243-8b52-47b8-b821-83f704cca1c1",
   "metadata": {},
   "outputs": [
    {
     "data": {
      "image/png": "[encoded data removed]",
      "text/plain": [
       "<Figure size 640x480 with 1 Axes>"
      ]
     },
     "metadata": {},
     "output_type": "display_data"
    }
   ],
   "source": [
    "import matplotlib.pyplot as plt\n",
    "\n",
    "# Plot a histogram for SODIUM\n",
    "plt.hist(df['SODIUM'].dropna(), bins=20, color='skyblue', edgecolor='black')\n",
    "plt.axvline(x=135, color='green', linestyle='--', label='Lower Limit (135)')\n",
    "plt.axvline(x=145, color='red', linestyle='--', label='Upper Limit (145)')\n",
    "plt.title('Distribution of SODIUM Levels')\n",
    "plt.xlabel('SODIUM (mEq/L)')\n",
    "plt.ylabel('Frequency')\n",
    "plt.legend()\n",
    "plt.show()"
   ]
  },
  {
   "cell_type": "code",
   "execution_count": 17,
   "id": "80e76219-12de-4b78-b00b-0f9e11807dba",
   "metadata": {},
   "outputs": [
    {
     "name": "stdout",
     "output_type": "stream",
     "text": [
      "                   SODIUM  POTASSIUM  CALCIUM  CHLORIDE  CARBON_DIOXIDE_CO2  \\\n",
      "Within Range (1)     7743       7774     7830      6622                6603   \n",
      "Outside Range (0)     272        230      174      1393                1401   \n",
      "Missing (NaN)        2272       2283     2283      2272                2283   \n",
      "\n",
      "                   GLUCOSE  CHOLESTEROL_TOTAL  HDL_CHOL_DIRECT  \\\n",
      "Within Range (1)      4278               5844             7215   \n",
      "Outside Range (0)     3737               2177              806   \n",
      "Missing (NaN)         2272               2266             2266   \n",
      "\n",
      "                   LDL_CHOL_CALCULATION  TRIGLYCERIDES  ALBUMIN  GLOBULIN  \\\n",
      "Within Range (1)                   4971           6055     7977      7668   \n",
      "Outside Range (0)                  3028           1966       38       347   \n",
      "Missing (NaN)                      2288           2266     2272      2272   \n",
      "\n",
      "                   A_G_RATIO  UREA_NITROGEN  HEMOGLOBIN  RED_CELL_COUNT  \\\n",
      "Within Range (1)        7676           4767        3126            1293   \n",
      "Outside Range (0)        339           3248        4594            6427   \n",
      "Missing (NaN)           2272           2272        2567            2567   \n",
      "\n",
      "                   HEMATOCRIT  \n",
      "Within Range (1)         4285  \n",
      "Outside Range (0)        3435  \n",
      "Missing (NaN)            2567  \n"
     ]
    }
   ],
   "source": [
    "# Summarize scores for each variable\n",
    "summary = scores.apply(lambda x: pd.Series({\n",
    "    'Within Range (1)': (x == 1).sum(),\n",
    "    'Outside Range (0)': (x == 0).sum(),\n",
    "    'Missing (NaN)': x.isnull().sum()\n",
    "}))\n",
    "\n",
    "print(summary)"
   ]
  },
  {
   "cell_type": "code",
   "execution_count": 20,
   "id": "a60b8f27-d21c-4a6e-9c5f-bb1bea5d9af9",
   "metadata": {},
   "outputs": [],
   "source": [
    "def interpret_index(score):\n",
    "    \"\"\"Return an interpretation based on the final index score.\"\"\"\n",
    "    if score >= 0.8:\n",
    "        return 'Excellent'\n",
    "    elif score >= 0.6:\n",
    "        return 'Good'\n",
    "    elif score >= 0.4:\n",
    "        return 'Average'\n",
    "    else:\n",
    "        return 'Poor'"
   ]
  },
  {
   "cell_type": "code",
   "execution_count": 22,
   "id": "0d5561b4-5ed4-4057-b503-9502577c83e0",
   "metadata": {},
   "outputs": [
    {
     "name": "stdout",
     "output_type": "stream",
     "text": [
      "Results saved to Dp_Nutrition_Ingestion_Index_Scores.csv\n"
     ]
    }
   ],
   "source": [
    "# Add interpretation to the DataFrame\n",
    "component_scores_df['Interpretation'] = component_scores_df['Nutrition_Ingestion_Index'].apply(interpret_index)\n",
    "\n",
    "# Save Results to a CSV File\n",
    "component_scores_df.to_csv('Dp_Nutrition_Ingestion_Index_Scores.csv', index=False)\n",
    "print(\"Results saved to Dp_Nutrition_Ingestion_Index_Scores.csv\")"
   ]
  },
  {
   "cell_type": "code",
   "execution_count": 23,
   "id": "ee68c116-e29e-4f0d-9060-5555d8e64e58",
   "metadata": {},
   "outputs": [
    {
     "data": {
      "image/png": "[encoded data removed]",
      "text/plain": [
       "<Figure size 640x480 with 1 Axes>"
      ]
     },
     "metadata": {},
     "output_type": "display_data"
    }
   ],
   "source": [
    "# Plot histogram of the Nutrition Ingestion Index\n",
    "plt.hist(component_scores_df['Nutrition_Ingestion_Index'].dropna(), bins=20, color='skyblue', edgecolor='black')\n",
    "plt.title('Distribution of Nutrition Ingestion Index')\n",
    "plt.xlabel('Nutrition Ingestion Index')\n",
    "plt.ylabel('Frequency')\n",
    "plt.axvline(x=0.8, color='green', linestyle='--', label='Excellent')\n",
    "plt.axvline(x=0.6, color='blue', linestyle='--', label='Good')\n",
    "plt.axvline(x=0.4, color='orange', linestyle='--', label='Average')\n",
    "plt.axvline(x=0.0, color='red', linestyle='--', label='Poor')\n",
    "plt.legend()\n",
    "plt.show()\n"
   ]
  },
  {
   "cell_type": "code",
   "execution_count": 26,
   "id": "12e015c7-2316-475a-b271-d1bd7e82f7c6",
   "metadata": {},
   "outputs": [
    {
     "name": "stdout",
     "output_type": "stream",
     "text": [
      "### Nutrition Ingestion Index Summary ###\n",
      "Good: 39.47%\n",
      "Poor: 23.70%\n",
      "Average: 18.62%\n",
      "Excellent: 18.22%\n"
     ]
    }
   ],
   "source": [
    "# Categorize the Nutrition Ingestion Index into Excellent, Good, Average, and Poor\n",
    "def interpret_index(score):\n",
    "    if score >= 0.8:\n",
    "        return 'Excellent'\n",
    "    elif score >= 0.6:\n",
    "        return 'Good'\n",
    "    elif score >= 0.4:\n",
    "        return 'Average'\n",
    "    else:\n",
    "        return 'Poor'\n",
    "\n",
    "# Apply the interpretation function to categorize individuals\n",
    "component_scores_df['Category'] = component_scores_df['Nutrition_Ingestion_Index'].apply(interpret_index)\n",
    "\n",
    "# Calculate the percentage of individuals in each category\n",
    "category_summary = component_scores_df['Category'].value_counts(normalize=True) * 100\n",
    "\n",
    "# Print the summary in the desired format\n",
    "print(\"### Nutrition Ingestion Index Summary ###\")\n",
    "for category, percent in category_summary.items():\n",
    "    print(f\"{category}: {percent:.2f}%\")"
   ]
  },
  {
   "cell_type": "code",
   "execution_count": 27,
   "id": "633debed-980e-480d-b6a6-d163a0def9c2",
   "metadata": {},
   "outputs": [
    {
     "data": {
      "image/png": "[encoded data removed]",
      "text/plain": [
       "<Figure size 800x600 with 1 Axes>"
      ]
     },
     "metadata": {},
     "output_type": "display_data"
    }
   ],
   "source": [
    "import matplotlib.pyplot as plt\n",
    "\n",
    "# Plot the Nutrition Ingestion Index categories as a pie chart\n",
    "category_summary = component_scores_df['Category'].value_counts(normalize=True) * 100\n",
    "\n",
    "plt.figure(figsize=(8, 6))\n",
    "plt.pie(category_summary, labels=category_summary.index, autopct='%1.1f%%', startangle=140, colors=['#ff9999','#66b3ff','#99ff99','#ffcc99'])\n",
    "plt.title(\"Nutrition Ingestion Index Summary\")\n",
    "plt.show()"
   ]
  },
  {
   "cell_type": "code",
   "execution_count": 28,
   "id": "100b6aca-3506-4497-b3a0-4ec1df74c14d",
   "metadata": {},
   "outputs": [
    {
     "name": "stdout",
     "output_type": "stream",
     "text": [
      "### Nutrition Ingestion Index Summary ###\n",
      " Category  Percentage                                                                                                        Interpretation\n",
      "     Good       39.47      The largest portion of the population has adequate nutrition, but minor improvements can enhance overall health.\n",
      "     Poor       23.70 A significant proportion of individuals have notable nutritional deficiencies and may require immediate intervention.\n",
      "  Average       18.62          These individuals show moderate nutritional imbalances that could improve with targeted dietary adjustments.\n",
      "Excellent       18.22                                          A smaller proportion of individuals demonstrate excellent overall nutrition.\n"
     ]
    }
   ],
   "source": [
    "import pandas as pd\n",
    "\n",
    "# Create the Nutrition Ingestion Index Summary data\n",
    "data = {\n",
    "    \"Category\": [\"Good\", \"Poor\", \"Average\", \"Excellent\"],\n",
    "    \"Percentage\": [39.47, 23.70, 18.62, 18.22],\n",
    "    \"Interpretation\": [\n",
    "        \"The largest portion of the population has adequate nutrition, but minor improvements can enhance overall health.\",\n",
    "        \"A significant proportion of individuals have notable nutritional deficiencies and may require immediate intervention.\",\n",
    "        \"These individuals show moderate nutritional imbalances that could improve with targeted dietary adjustments.\",\n",
    "        \"A smaller proportion of individuals demonstrate excellent overall nutrition.\"\n",
    "    ]\n",
    "}\n",
    "\n",
    "# Convert the data to a DataFrame\n",
    "summary_df = pd.DataFrame(data)\n",
    "\n",
    "# Display the table\n",
    "print(\"### Nutrition Ingestion Index Summary ###\")\n",
    "print(summary_df.to_string(index=False))\n",
    "\n",
    "# Save the table to a CSV file\n",
    "summary_df.to_csv('Nutrition_Index_Summary_Table.csv', index=False)"
   ]
  }
 ],
 "metadata": {
  "kernelspec": {
   "display_name": "Python 3 (ipykernel)",
   "language": "python",
   "name": "python3"
  },
  "language_info": {
   "codemirror_mode": {
    "name": "ipython",
    "version": 3
   },
   "file_extension": ".py",
   "mimetype": "text/x-python",
   "name": "python",
   "nbconvert_exporter": "python",
   "pygments_lexer": "ipython3",
   "version": "3.10.12"
  }
 },
 "nbformat": 4,
 "nbformat_minor": 5
}
